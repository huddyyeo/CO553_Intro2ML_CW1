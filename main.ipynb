{
 "cells": [
  {
   "cell_type": "code",
   "execution_count": 1,
   "metadata": {
    "id": "6dY4sYN5BhnF"
   },
   "outputs": [],
   "source": [
    "import numpy as np\n",
    "import pandas as pd\n",
    "import find_split as fs\n",
    "import evaluation as ev\n",
    "import matplotlib.pyplot as plt\n",
    "import trees"
   ]
  },
  {
   "cell_type": "code",
   "execution_count": 2,
   "metadata": {},
   "outputs": [
    {
     "name": "stdout",
     "output_type": "stream",
     "text": [
      "[[-59. -53. -51. -54. -45. -79. -87.   4.]\n",
      " [-66. -53. -59. -62. -69. -81. -79.   1.]\n",
      " [-41. -57. -63. -40. -73. -66. -65.   2.]\n",
      " [-62. -58. -52. -63. -50. -87. -88.   4.]\n",
      " [-63. -58. -64. -67. -74. -87. -87.   4.]]\n"
     ]
    }
   ],
   "source": [
    "data = np.loadtxt('noisy_dataset.txt')\n",
    "print(data[:5])"
   ]
  },
  {
   "cell_type": "code",
   "execution_count": 3,
   "metadata": {},
   "outputs": [
    {
     "name": "stdout",
     "output_type": "stream",
     "text": [
      "Max depth is 18\n"
     ]
    }
   ],
   "source": [
    "#training the tree\n",
    "decisionTree=trees.binarySearchTree(data)\n",
    "print('Max depth is',decisionTree.get_max_depth())"
   ]
  },
  {
   "cell_type": "code",
   "execution_count": 4,
   "metadata": {},
   "outputs": [
    {
     "data": {
      "text/plain": [
       "array([4, 1, 2, ..., 1, 3, 3])"
      ]
     },
     "execution_count": 4,
     "metadata": {},
     "output_type": "execute_result"
    }
   ],
   "source": [
    "#just to test, predict the entire training set's labels\n",
    "train_pred=decisionTree.predict(data[:,:-1])\n",
    "train_pred"
   ]
  },
  {
   "cell_type": "code",
   "execution_count": 5,
   "metadata": {},
   "outputs": [
    {
     "data": {
      "text/plain": [
       "array([4., 1., 2., ..., 1., 3., 3.])"
      ]
     },
     "execution_count": 5,
     "metadata": {},
     "output_type": "execute_result"
    }
   ],
   "source": [
    "#actual labels\n",
    "data[:,-1]"
   ]
  },
  {
   "cell_type": "code",
   "execution_count": 6,
   "metadata": {},
   "outputs": [
    {
     "name": "stdout",
     "output_type": "stream",
     "text": [
      "True\n"
     ]
    }
   ],
   "source": [
    "#check if every label predicted is same as actual label and hence our model is working perfectly\n",
    "print(np.all(train_pred==data[:,-1]))"
   ]
  },
  {
   "cell_type": "code",
   "execution_count": 7,
   "metadata": {},
   "outputs": [
    {
     "name": "stdout",
     "output_type": "stream",
     "text": [
      "---RESULT METRICS---\n",
      "Precisions:   [1. 1. 1. 1.]\n",
      "Recalls:      [1. 1. 1. 1.]\n",
      "F1 Score:     [1. 1. 1. 1.]\n",
      "Avg Accuracy: 1.0\n"
     ]
    },
    {
     "name": "stderr",
     "output_type": "stream",
     "text": [
      "/Library/Frameworks/Python.framework/Versions/3.7/lib/python3.7/site-packages/matplotlib/figure.py:459: UserWarning: matplotlib is currently using a non-GUI backend, so cannot show the figure\n",
      "  \"matplotlib is currently using a non-GUI backend, \"\n"
     ]
    },
    {
     "data": {
      "image/png": "[encoded data removed]",
      "text/plain": [
       "<Figure size 432x288 with 1 Axes>"
      ]
     },
     "metadata": {
      "needs_background": "light"
     },
     "output_type": "display_data"
    }
   ],
   "source": [
    "cm=ev.confusion_matrix(data[:,-1],train_pred,plot=True)\n",
    "i=ev.get_metrics(data[:,-1], train_pred, printout=True)"
   ]
  },
  {
   "cell_type": "code",
   "execution_count": 8,
   "metadata": {},
   "outputs": [
    {
     "name": "stdout",
     "output_type": "stream",
     "text": [
      "Max depth is 16\n"
     ]
    }
   ],
   "source": [
    "#testing a training set and test set using a 70:30 split\n",
    "data2=data.copy()\n",
    "#shuffle data\n",
    "np.random.shuffle(data2)\n",
    "split=0.7\n",
    "train=data2[:int(len(data2)*split)]\n",
    "test=data2[int(len(data2)*split):]\n",
    "\n",
    "model=trees.binarySearchTree(train)\n",
    "print('Max depth is',model.get_max_depth())"
   ]
  },
  {
   "cell_type": "code",
   "execution_count": 9,
   "metadata": {},
   "outputs": [],
   "source": [
    "#get prediction\n",
    "y_pred=model.predict(test[:,:-1])"
   ]
  },
  {
   "cell_type": "code",
   "execution_count": 10,
   "metadata": {},
   "outputs": [
    {
     "name": "stdout",
     "output_type": "stream",
     "text": [
      "---RESULT METRICS---\n",
      "Precisions:   [0.76642336 0.82467532 0.82236842 0.82165605]\n",
      "Recalls:      [0.75539568 0.8089172  0.83333333 0.83766234]\n",
      "F1 Score:     [0.76086957 0.81672026 0.82781457 0.82958199]\n",
      "Avg Accuracy: 0.81\n"
     ]
    },
    {
     "data": {
      "image/png": "[encoded data removed]",
      "text/plain": [
       "<Figure size 432x288 with 1 Axes>"
      ]
     },
     "metadata": {
      "needs_background": "light"
     },
     "output_type": "display_data"
    }
   ],
   "source": [
    "#evaluate\n",
    "cm=ev.confusion_matrix(test[:,-1],y_pred,plot=True)\n",
    "i=ev.get_metrics(test[:,-1], y_pred, printout=True)"
   ]
  },
  {
   "cell_type": "code",
   "execution_count": 11,
   "metadata": {},
   "outputs": [
    {
     "name": "stdout",
     "output_type": "stream",
     "text": [
      "Max depth is 4\n"
     ]
    }
   ],
   "source": [
    "#testing the limit \n",
    "data2=data.copy()\n",
    "#shuffle data\n",
    "np.random.shuffle(data2)\n",
    "split=0.7\n",
    "train=data2[:int(len(data2)*split)]\n",
    "test=data2[int(len(data2)*split):]\n",
    "\n",
    "model2=trees.binarySearchTree(train,limit=4)\n",
    "print('Max depth is',model2.get_max_depth())"
   ]
  },
  {
   "cell_type": "code",
   "execution_count": 12,
   "metadata": {},
   "outputs": [
    {
     "name": "stdout",
     "output_type": "stream",
     "text": [
      "---RESULT METRICS---\n",
      "Precisions:   [0.87969925 0.91194969 0.90322581 0.89542484]\n",
      "Recalls:      [0.87969925 0.90062112 0.92105263 0.88961039]\n",
      "F1 Score:     [0.87969925 0.90625    0.91205212 0.89250814]\n",
      "Avg Accuracy: 0.8983333333333333\n"
     ]
    },
    {
     "data": {
      "image/png": "[encoded data removed]",
      "text/plain": [
       "<Figure size 432x288 with 1 Axes>"
      ]
     },
     "metadata": {
      "needs_background": "light"
     },
     "output_type": "display_data"
    }
   ],
   "source": [
    "y_pred=model2.predict(test[:,:-1])\n",
    "cm=ev.confusion_matrix(test[:,-1],y_pred,plot=True)\n",
    "i=ev.get_metrics(test[:,-1], y_pred, printout=True)"
   ]
  }
 ],
 "metadata": {
  "colab": {
   "collapsed_sections": [],
   "name": "Copy of trees.ipynb",
   "provenance": []
  },
  "kernelspec": {
   "display_name": "Python 3",
   "language": "python",
   "name": "python3"
  },
  "language_info": {
   "codemirror_mode": {
    "name": "ipython",
    "version": 3
   },
   "file_extension": ".py",
   "mimetype": "text/x-python",
   "name": "python",
   "nbconvert_exporter": "python",
   "pygments_lexer": "ipython3",
   "version": "3.7.0"
  }
 },
 "nbformat": 4,
 "nbformat_minor": 1
}
