{
 "cells": [
  {
   "cell_type": "code",
   "execution_count": 1,
   "metadata": {
    "id": "6dY4sYN5BhnF"
   },
   "outputs": [],
   "source": [
    "import numpy as np\n",
    "import pandas as pd\n",
    "import find_split as fs\n",
    "import evaluation as ev\n",
    "import matplotlib.pyplot as plt\n",
    "import trees"
   ]
  },
  {
   "cell_type": "code",
   "execution_count": 2,
   "metadata": {},
   "outputs": [
    {
     "name": "stdout",
     "output_type": "stream",
     "text": [
      "[[-59. -53. -51. -54. -45. -79. -87.   4.]\n",
      " [-66. -53. -59. -62. -69. -81. -79.   1.]\n",
      " [-41. -57. -63. -40. -73. -66. -65.   2.]\n",
      " [-62. -58. -52. -63. -50. -87. -88.   4.]\n",
      " [-63. -58. -64. -67. -74. -87. -87.   4.]]\n"
     ]
    }
   ],
   "source": [
    "data = np.loadtxt('noisy_dataset.txt')\n",
    "print(data[:5])"
   ]
  },
  {
   "cell_type": "code",
   "execution_count": 3,
   "metadata": {},
   "outputs": [
    {
     "name": "stdout",
     "output_type": "stream",
     "text": [
      "Max depth is 18\n"
     ]
    }
   ],
   "source": [
    "#training the tree\n",
    "decisionTree=trees.binarySearchTree(data)\n",
    "print('Max depth is',decisionTree.get_max_depth())"
   ]
  },
  {
   "cell_type": "code",
   "execution_count": 4,
   "metadata": {},
   "outputs": [
    {
     "data": {
      "text/plain": [
       "array([4, 1, 2, ..., 1, 3, 3])"
      ]
     },
     "execution_count": 4,
     "metadata": {},
     "output_type": "execute_result"
    }
   ],
   "source": [
    "#just to test, predict the entire training set's labels\n",
    "train_pred=decisionTree.predict(data[:,:-1])\n",
    "train_pred"
   ]
  },
  {
   "cell_type": "code",
   "execution_count": 5,
   "metadata": {},
   "outputs": [
    {
     "data": {
      "text/plain": [
       "array([4., 1., 2., ..., 1., 3., 3.])"
      ]
     },
     "execution_count": 5,
     "metadata": {},
     "output_type": "execute_result"
    }
   ],
   "source": [
    "#actual labels\n",
    "data[:,-1]"
   ]
  },
  {
   "cell_type": "code",
   "execution_count": 6,
   "metadata": {},
   "outputs": [
    {
     "name": "stdout",
     "output_type": "stream",
     "text": [
      "True\n"
     ]
    }
   ],
   "source": [
    "#check if every label predicted is same as actual label and hence our model is working perfectly\n",
    "print(np.all(train_pred==data[:,-1]))"
   ]
  },
  {
   "cell_type": "code",
   "execution_count": 7,
   "metadata": {},
   "outputs": [
    {
     "data": {
      "image/png": "[encoded data removed]",
      "text/plain": [
       "<Figure size 288x288 with 1 Axes>"
      ]
     },
     "metadata": {
      "needs_background": "light"
     },
     "output_type": "display_data"
    },
    {
     "name": "stdout",
     "output_type": "stream",
     "text": [
      "avg recall precision (1.0, 1.0)\n",
      "avg classification rate 1.0\n"
     ]
    }
   ],
   "source": [
    "cm=ev.confusion_matrix(data[:,-1],train_pred,plot=True)\n",
    "print('avg recall precision',ev.avg_recall_precision(cm))\n",
    "print('avg classification rate',ev.avg_classification_rate(cm))"
   ]
  },
  {
   "cell_type": "code",
   "execution_count": 8,
   "metadata": {},
   "outputs": [
    {
     "name": "stdout",
     "output_type": "stream",
     "text": [
      "Max depth is 18\n"
     ]
    }
   ],
   "source": [
    "#testing a training set and test set using a 70:30 split\n",
    "data2=data.copy()\n",
    "#shuffle data\n",
    "np.random.shuffle(data2)\n",
    "split=0.7\n",
    "train=data2[:int(len(data2)*split)]\n",
    "test=data2[int(len(data2)*split):]\n",
    "\n",
    "model=trees.binarySearchTree(train)\n",
    "print('Max depth is',model.get_max_depth())"
   ]
  },
  {
   "cell_type": "code",
   "execution_count": 9,
   "metadata": {},
   "outputs": [],
   "source": [
    "#get prediction\n",
    "y_pred=model.predict(test[:,:-1])"
   ]
  },
  {
   "cell_type": "code",
   "execution_count": 10,
   "metadata": {},
   "outputs": [
    {
     "data": {
      "image/png": "[encoded data removed]",
      "text/plain": [
       "<Figure size 288x288 with 1 Axes>"
      ]
     },
     "metadata": {
      "needs_background": "light"
     },
     "output_type": "display_data"
    },
    {
     "name": "stdout",
     "output_type": "stream",
     "text": [
      "[[132, 12, 14, 17], [8, 102, 13, 2], [12, 10, 125, 8], [14, 10, 10, 111]]\n",
      "avg recall precision (0.7855636421420626, 0.7855636421420626)\n",
      "avg classification rate 0.7833333333333333\n"
     ]
    }
   ],
   "source": [
    "#evaluate\n",
    "cm=ev.confusion_matrix(test[:,-1],y_pred,plot=True)\n",
    "print(cm)\n",
    "print('avg recall precision',ev.avg_recall_precision(cm))\n",
    "print('avg classification rate',ev.avg_classification_rate(cm))"
   ]
  },
  {
   "cell_type": "code",
   "execution_count": 23,
   "metadata": {},
   "outputs": [
    {
     "name": "stdout",
     "output_type": "stream",
     "text": [
      "Max depth is 4\n"
     ]
    }
   ],
   "source": [
    "#testing the limit \n",
    "data2=data.copy()\n",
    "#shuffle data\n",
    "np.random.shuffle(data2)\n",
    "split=0.7\n",
    "train=data2[:int(len(data2)*split)]\n",
    "test=data2[int(len(data2)*split):]\n",
    "\n",
    "model2=trees.binarySearchTree(train,limit=4)\n",
    "print('Max depth is',model2.get_max_depth())"
   ]
  },
  {
   "cell_type": "code",
   "execution_count": 24,
   "metadata": {},
   "outputs": [
    {
     "data": {
      "image/png": "[encoded data removed]",
      "text/plain": [
       "<Figure size 288x288 with 1 Axes>"
      ]
     },
     "metadata": {
      "needs_background": "light"
     },
     "output_type": "display_data"
    },
    {
     "name": "stdout",
     "output_type": "stream",
     "text": [
      "[[137, 3, 8, 9], [5, 133, 11, 3], [8, 10, 128, 2], [7, 3, 7, 126]]\n",
      "avg recall precision (0.8733988027379748, 0.8733988027379748)\n",
      "avg classification rate 0.8733333333333333\n"
     ]
    }
   ],
   "source": [
    "y_pred=model2.predict(test[:,:-1])\n",
    "cm=ev.confusion_matrix(test[:,-1],y_pred,plot=True)\n",
    "print(cm)\n",
    "print('avg recall precision',ev.avg_recall_precision(cm))\n",
    "print('avg classification rate',ev.avg_classification_rate(cm))"
   ]
  },
  {
   "cell_type": "code",
   "execution_count": null,
   "metadata": {},
   "outputs": [],
   "source": []
  }
 ],
 "metadata": {
  "colab": {
   "collapsed_sections": [],
   "name": "Copy of trees.ipynb",
   "provenance": []
  },
  "kernelspec": {
   "display_name": "Python 3",
   "language": "python",
   "name": "python3"
  },
  "language_info": {
   "codemirror_mode": {
    "name": "ipython",
    "version": 3
   },
   "file_extension": ".py",
   "mimetype": "text/x-python",
   "name": "python",
   "nbconvert_exporter": "python",
   "pygments_lexer": "ipython3",
   "version": "3.7.0"
  }
 },
 "nbformat": 4,
 "nbformat_minor": 1
}
