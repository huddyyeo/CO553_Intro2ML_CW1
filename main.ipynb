{
 "cells": [
  {
   "cell_type": "code",
   "execution_count": 1,
   "metadata": {
    "id": "6dY4sYN5BhnF"
   },
   "outputs": [],
   "source": [
    "import numpy as np\n",
    "import pandas as pd\n",
    "import find_split as fs\n",
    "import evaluation as ev\n",
    "import matplotlib.pyplot as plt\n",
    "import trees"
   ]
  },
  {
   "cell_type": "code",
   "execution_count": 2,
   "metadata": {},
   "outputs": [
    {
     "name": "stdout",
     "output_type": "stream",
     "text": [
      "[[-64. -56. -61. -66. -71. -82. -81.   1.]\n",
      " [-68. -57. -61. -65. -71. -85. -85.   1.]\n",
      " [-63. -60. -60. -67. -76. -85. -84.   1.]\n",
      " [-61. -60. -68. -62. -77. -90. -80.   1.]\n",
      " [-63. -65. -60. -63. -77. -81. -87.   1.]]\n"
     ]
    }
   ],
   "source": [
    "data = np.loadtxt('clean_dataset.txt')\n",
    "print(data[:5])"
   ]
  },
  {
   "cell_type": "code",
   "execution_count": 3,
   "metadata": {},
   "outputs": [
    {
     "name": "stdout",
     "output_type": "stream",
     "text": [
      "Max depth is 14\n"
     ]
    }
   ],
   "source": [
    "#training the tree\n",
    "decisionTree=trees.binarySearchTree(data)\n",
    "print('Max depth is',decisionTree.get_max_depth())"
   ]
  },
  {
   "cell_type": "code",
   "execution_count": 4,
   "metadata": {},
   "outputs": [
    {
     "data": {
      "text/plain": [
       "array([1, 1, 1, ..., 4, 4, 4])"
      ]
     },
     "execution_count": 4,
     "metadata": {},
     "output_type": "execute_result"
    }
   ],
   "source": [
    "#just to test, predict the entire training set's labels\n",
    "train_pred=decisionTree.predict(data[:,:-1])\n",
    "train_pred"
   ]
  },
  {
   "cell_type": "code",
   "execution_count": 5,
   "metadata": {},
   "outputs": [
    {
     "data": {
      "text/plain": [
       "array([1., 1., 1., ..., 4., 4., 4.])"
      ]
     },
     "execution_count": 5,
     "metadata": {},
     "output_type": "execute_result"
    }
   ],
   "source": [
    "#actual labels\n",
    "data[:,-1]"
   ]
  },
  {
   "cell_type": "code",
   "execution_count": 6,
   "metadata": {},
   "outputs": [
    {
     "name": "stdout",
     "output_type": "stream",
     "text": [
      "True\n"
     ]
    }
   ],
   "source": [
    "#check if every label predicted is same as actual label and hence our model is working perfectly\n",
    "print(np.all(train_pred==data[:,-1]))"
   ]
  },
  {
   "cell_type": "code",
   "execution_count": 7,
   "metadata": {},
   "outputs": [
    {
     "data": {
      "image/png": "[encoded data removed]",
      "text/plain": [
       "<Figure size 288x288 with 1 Axes>"
      ]
     },
     "metadata": {
      "needs_background": "light"
     },
     "output_type": "display_data"
    },
    {
     "name": "stdout",
     "output_type": "stream",
     "text": [
      "avg recall precision (1.0, 1.0)\n",
      "avg classification rate 1.0\n"
     ]
    }
   ],
   "source": [
    "cm=ev.confusion_matrix(data[:,-1],train_pred,plot=True)\n",
    "print('avg recall precision',ev.avg_recall_precision(cm))\n",
    "print('avg classification rate',ev.avg_classification_rate(cm))"
   ]
  },
  {
   "cell_type": "code",
   "execution_count": 8,
   "metadata": {},
   "outputs": [
    {
     "name": "stdout",
     "output_type": "stream",
     "text": [
      "Max depth is 14\n"
     ]
    }
   ],
   "source": [
    "#testing a training set and test set using a 70:30 split\n",
    "data2=data.copy()\n",
    "#shuffle data\n",
    "np.random.shuffle(data2)\n",
    "split=0.7\n",
    "train=data2[:int(len(data2)*split)]\n",
    "test=data2[int(len(data2)*split):]\n",
    "\n",
    "model=trees.binarySearchTree(train)\n",
    "print('Max depth is',model.get_max_depth())"
   ]
  },
  {
   "cell_type": "code",
   "execution_count": 9,
   "metadata": {},
   "outputs": [],
   "source": [
    "#get prediction\n",
    "y_pred=model.predict(test[:,:-1])"
   ]
  },
  {
   "cell_type": "code",
   "execution_count": 10,
   "metadata": {},
   "outputs": [
    {
     "data": {
      "image/png": "[encoded data removed]",
      "text/plain": [
       "<Figure size 288x288 with 1 Axes>"
      ]
     },
     "metadata": {
      "needs_background": "light"
     },
     "output_type": "display_data"
    },
    {
     "name": "stdout",
     "output_type": "stream",
     "text": [
      "[[147, 0, 1, 0], [0, 138, 5, 0], [1, 8, 145, 1], [4, 0, 3, 147]]\n",
      "avg recall precision (0.9620768834478511, 0.9620768834478511)\n",
      "avg classification rate 0.9616666666666667\n"
     ]
    }
   ],
   "source": [
    "#evaluate\n",
    "cm=ev.confusion_matrix(test[:,-1],y_pred,plot=True)\n",
    "print(cm)\n",
    "print('avg recall precision',ev.avg_recall_precision(cm))\n",
    "print('avg classification rate',ev.avg_classification_rate(cm))"
   ]
  }
 ],
 "metadata": {
  "colab": {
   "collapsed_sections": [],
   "name": "Copy of trees.ipynb",
   "provenance": []
  },
  "kernelspec": {
   "display_name": "Python 3",
   "language": "python",
   "name": "python3"
  },
  "language_info": {
   "codemirror_mode": {
    "name": "ipython",
    "version": 3
   },
   "file_extension": ".py",
   "mimetype": "text/x-python",
   "name": "python",
   "nbconvert_exporter": "python",
   "pygments_lexer": "ipython3",
   "version": "3.7.0"
  }
 },
 "nbformat": 4,
 "nbformat_minor": 1
}
