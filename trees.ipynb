{
  "nbformat": 4,
  "nbformat_minor": 0,
  "metadata": {
    "colab": {
      "name": "Copy of trees.ipynb",
      "provenance": [],
      "collapsed_sections": []
    },
    "kernelspec": {
      "name": "python3",
      "display_name": "Python 3"
    }
  },
  "cells": [
    {
      "cell_type": "code",
      "metadata": {
        "id": "6dY4sYN5BhnF"
      },
      "source": [
        "import numpy as np\n",
        "import pandas as pd"
      ],
      "execution_count": null,
      "outputs": []
    },
    {
      "cell_type": "code",
      "metadata": {
        "id": "kTuulUtLBO37",
        "outputId": "8408eabe-2d00-4a7c-b74e-ac7f3676b300",
        "colab": {
          "base_uri": "https://localhost:8080/",
          "height": 34
        }
      },
      "source": [
        "len(np.unique(data.values[:,-1]))==1"
      ],
      "execution_count": null,
      "outputs": [
        {
          "output_type": "execute_result",
          "data": {
            "text/plain": [
              "False"
            ]
          },
          "metadata": {
            "tags": []
          },
          "execution_count": 25
        }
      ]
    },
    {
      "cell_type": "code",
      "metadata": {
        "id": "jDfXT0lO7vn2"
      },
      "source": [
        "\n",
        "\n",
        "def find_split(data,attributes_used):\n",
        "    \n",
        "    return split_attribute,split_value \n",
        "\n",
        "class binarySearchTree:\n",
        "    def __init__(self, samples, depth, label = None, attributes_used=[]):\n",
        "        self.left_child = None\n",
        "        self.right_child = None\n",
        "        self.samples = samples\n",
        "        self.depth = depth+1\n",
        "        self.label = label\n",
        "        self.attributes_used = attributes_used\n",
        "        self.split_value = None\n",
        "        self.split_label = None\n",
        "        \n",
        "        if len(np.unique(data.values[:,-1]))==1: #assuming last column is for labels\n",
        "            self.label = label\n",
        "        \n",
        "        else:\n",
        "            #not all samples have same label, do a split\n",
        "            # split attribute: router from [1,...,6]\n",
        "            # split_value: router value\n",
        "            split_attribute, self.split_value = find_split(data, self.attributes_used) \n",
        "            self.attributes_used.append(split_attribute) \n",
        "        \n",
        "\n",
        "\n",
        "            #split data into data1 and data2 based on the split value\n",
        "            #code to be completed\n",
        "            l_data = []\n",
        "            r_data = []\n",
        "\n",
        "            l_data=data[data[:,split_attribute]<=split_value]\n",
        "\n",
        "            r_data=data[data[:,split_attribute]>split_value]\n",
        "             \n",
        "            #recursively search the tree, branching into 2 \n",
        "            self.left_child=binarySearchTree(l_data, self.depth, attributes_used)\n",
        "            self.right_child=binarySearchTree(r_data, self.depth, attributes_used)\n",
        "\n",
        "            #return label, max(self.left_child.get_depth(), self.right_child.get_depth())\n",
        "\n",
        "        \n",
        "    def get_depth(self):\n",
        "            max_depth=[self.depth]\n",
        "            if self.left_child():\n",
        "                max_depth.append(self.left_child.get_depth())\n",
        "            if self.right_child():\n",
        "                max_depth.append(self.right_child.get_depth())                 \n",
        "            return max(max_depth)\n",
        "                 \n",
        "    def test(self,data):\n",
        "        #runs through the code and returns result of one point\n",
        "        if self.label:\n",
        "            return self.label\n",
        "        else:\n",
        "            if #data attribute > self.split_value\n",
        "                 #subset data based on the split value and attribute\n",
        "                 return self.right_child.test(data_new)\n",
        "            else:\n",
        "                 return self.left_child.test(data_new)\n",
        "        \n",
        "    def visualise(self):\n",
        "        #visualisation\n",
        "        pass\n",
        "    \n",
        "    def evaluate(self):\n",
        "        #evaluation\n",
        "        pass"
      ],
      "execution_count": null,
      "outputs": []
    }
  ]
}
