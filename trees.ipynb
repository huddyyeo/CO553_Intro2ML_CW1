{
 "cells": [
  {
   "cell_type": "code",
   "execution_count": 6,
   "metadata": {},
   "outputs": [],
   "source": [
    "import numpy as np\n",
    "\n",
    "class binarySearchTree:\n",
    "    def __init__(self,data,depth,left=None,right=None):\n",
    "        self.data=data\n",
    "        self.split=None\n",
    "        self.left_child=left\n",
    "        self.right_child=right\n",
    "        self.depth=depth+1\n",
    "        self.label=None\n",
    "        self.split_attribute,self.split_label=None\n",
    "\n",
    "        if all samples have same label:\n",
    "            self.label=label\n",
    "            return label,self.depth\n",
    "        \n",
    "        else:\n",
    "            #not all samples have same label, do a split\n",
    "            self.split_attribute,self.split_label=find_split()\n",
    "            \n",
    "            #recursively search the tree\n",
    "            self.left_child=binarySearchTree(data,depth+1)\n",
    "            self.right_child=binarySearchTree(data,depth+1)\n",
    "            \n",
    "    def test(self,data):\n",
    "        #runs through the code and returns result of one point\n",
    "        pass\n",
    "        \n",
    "    def visualise(self):\n",
    "        #visualisation\n",
    "        pass\n",
    "    \n",
    "    def evaluate(self):\n",
    "        #evaluation\n",
    "        pass\n",
    "\n",
    "        "
   ]
  }
 ],
 "metadata": {
  "kernelspec": {
   "display_name": "Python 3",
   "language": "python",
   "name": "python3"
  },
  "language_info": {
   "codemirror_mode": {
    "name": "ipython",
    "version": 3
   },
   "file_extension": ".py",
   "mimetype": "text/x-python",
   "name": "python",
   "nbconvert_exporter": "python",
   "pygments_lexer": "ipython3",
   "version": "3.7.0"
  }
 },
 "nbformat": 4,
 "nbformat_minor": 4
}
