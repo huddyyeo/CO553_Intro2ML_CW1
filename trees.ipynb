{
 "cells": [
  {
   "cell_type": "code",
   "execution_count": 1,
   "metadata": {
    "id": "6dY4sYN5BhnF"
   },
   "outputs": [],
   "source": [
    "import numpy as np\n",
    "import pandas as pd\n",
    "import find_split as fs"
   ]
  },
  {
   "cell_type": "code",
   "execution_count": 2,
   "metadata": {},
   "outputs": [
    {
     "name": "stdout",
     "output_type": "stream",
     "text": [
      "[[-64. -56. -61. -66. -71. -82. -81.   1.]\n",
      " [-68. -57. -61. -65. -71. -85. -85.   1.]\n",
      " [-63. -60. -60. -67. -76. -85. -84.   1.]\n",
      " [-61. -60. -68. -62. -77. -90. -80.   1.]\n",
      " [-63. -65. -60. -63. -77. -81. -87.   1.]]\n"
     ]
    }
   ],
   "source": [
    "data = np.loadtxt('clean_dataset.txt')\n",
    "print(data[:5])"
   ]
  },
  {
   "cell_type": "code",
   "execution_count": 3,
   "metadata": {
    "scrolled": true
   },
   "outputs": [],
   "source": [
    "#first method: following the algo given in the coursework instructions\n",
    "\n",
    "def DECISION_TREE_LEARNING(data,depth=0):\n",
    "    '''\n",
    "    Recursive tree algorithm, simply run the function on the data\n",
    "    It will return tree, depth as described in the coursework instructions \n",
    "    '''\n",
    "    #if all samples have the same label\n",
    "    if len(np.unique(data.values[:,-1]))==1:\n",
    "\n",
    "        #return a leaf node\n",
    "        node=tree_node(label=data.values[0,-1],depth=depth+1)\n",
    "        return node,depth+1\n",
    "\n",
    "    else:\n",
    "\n",
    "        #find split\n",
    "        #split attribute: router from [1,...,6]\n",
    "        #split_value: router value        \n",
    "        split_attribute,split_value,temp_data=find_split(data)\n",
    "        l_data=temp_data[0]\n",
    "        r_data=temp_data[1]\n",
    "        \n",
    "        #recursively callthe function\n",
    "        l_branch,l_depth=DECISION_TREE_LEARNING(l_data,depth+1)\n",
    "        r_branch,r_depth=DECISION_TREE_LEARNING(r_data,depth+1)\n",
    "        \n",
    "        #here we create a non-leaf node, it has split value and attribute as well as 2 children\n",
    "        node=tree_node(split_value=split_value,split_attribute=split_attribute,left=l_branch,right=r_branch,depth=depth+1)\n",
    "        return node,max(l_depth,r_depth)\n",
    "\n",
    "    def get_depth(self):\n",
    "            max_depth=[self.depth]\n",
    "            if self.left_child():\n",
    "                max_depth.append(self.left_child.get_depth())\n",
    "            if self.right_child():\n",
    "                max_depth.append(self.right_child.get_depth())                 \n",
    "            return max(max_depth)\n",
    "                 \n",
    "    def predict(self,data):\n",
    "        vals=[]\n",
    "        for i in range(len(data)):\n",
    "            #runs through the code and returns result of each point\n",
    "            if self.label:\n",
    "                vals.append(self.label)\n",
    "            else:\n",
    "                if data_attribute > self.split_value:\n",
    "                     #subset data based on the split value and attribute\n",
    "                     vals.append(self.right_child.test(data_new))\n",
    "                else:\n",
    "                     vals.append(self.left_child.test(data_new))\n",
    "        return vals\n",
    "            \n",
    "    def visualise(self):\n",
    "        #visualisation\n",
    "        pass\n",
    "    \n",
    "    def evaluate(self):\n",
    "        #evaluation\n",
    "        pass         \n",
    "\n",
    "class tree_node:\n",
    "    def __init__(self,split_value=None,split_attribute=None,leaf=False,label=None,left=None,right=None,depth=0):\n",
    "        self.label=label\n",
    "        self.split_value=split_value\n",
    "        self.split_attribute=split_attribute\n",
    "        self.left_child=left\n",
    "        self.right_child=right\n",
    "        self.depth=depth        "
   ]
  },
  {
   "cell_type": "code",
   "execution_count": 4,
   "metadata": {
    "id": "jDfXT0lO7vn2"
   },
   "outputs": [],
   "source": [
    "#second method: a more intuitive method that makes sense\n",
    "\n",
    "class binarySearchTree:\n",
    "    def __init__(self, data, depth=0, label = None):\n",
    "        self.left_child = None\n",
    "        self.right_child = None\n",
    "        self.depth = depth+1\n",
    "        self.label = label\n",
    "        self.split_value = None\n",
    "        self.split_router = None\n",
    "        #self.train_samples=None\n",
    "        \n",
    "        if len(np.unique(data[:,-1]))==1: #assuming last column is for labels\n",
    "            self.label = data[0,-1]\n",
    "        \n",
    "        else:\n",
    "            #not all samples have same label, do a split\n",
    "            # split router: router from [1,...,6]\n",
    "            # split_value: router value\n",
    "            split_router,split_value,temp_data=fs.find_split(data)\n",
    "            self.split_value=split_value\n",
    "            self.split_router=split_router\n",
    "            l_data=temp_data[0]\n",
    "            r_data=temp_data[1]\n",
    "             \n",
    "            #recursively search the tree, branching into 2 \n",
    "            self.left_child=binarySearchTree(l_data, self.depth)\n",
    "            self.right_child=binarySearchTree(r_data, self.depth)\n",
    "        \n",
    "    def get_max_depth(self):\n",
    "            max_depth=[self.depth]\n",
    "            if self.left_child:\n",
    "                max_depth.append(self.left_child.get_max_depth())\n",
    "            if self.right_child:\n",
    "                max_depth.append(self.right_child.get_max_depth())                 \n",
    "            return max(max_depth)\n",
    "        \n",
    "    def predict_one(self,data):\n",
    "        if self.label:\n",
    "            return np.array([int(self.label)])\n",
    "        else:\n",
    "            if data[self.split_router-1]<=self.split_value:\n",
    "                return self.left_child.predict_one(data)\n",
    "\n",
    "            else:\n",
    "                return self.right_child.predict_one(data)            \n",
    "            \n",
    "    def predict(self,data):\n",
    "        data=np.squeeze(data)\n",
    "        \n",
    "        if len(data.shape)>1:\n",
    "            return np.array([self.predict_one(i) for i in data]).flatten()\n",
    "        \n",
    "        else:\n",
    "            return self.predict_one(data).flatten()\n",
    "        \n",
    "        \n",
    "    def visualise(self):\n",
    "        #visualisation\n",
    "        pass\n",
    "    \n",
    "    def evaluate(self):\n",
    "        #evaluation\n",
    "        pass"
   ]
  }
 ],
 "metadata": {
  "colab": {
   "collapsed_sections": [],
   "name": "Copy of trees.ipynb",
   "provenance": []
  },
  "kernelspec": {
   "display_name": "Python 3",
   "language": "python",
   "name": "python3"
  },
  "language_info": {
   "codemirror_mode": {
    "name": "ipython",
    "version": 3
   },
   "file_extension": ".py",
   "mimetype": "text/x-python",
   "name": "python",
   "nbconvert_exporter": "python",
   "pygments_lexer": "ipython3",
   "version": "3.7.0"
  }
 },
 "nbformat": 4,
 "nbformat_minor": 1
}
