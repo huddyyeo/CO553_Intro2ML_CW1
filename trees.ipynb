{
 "cells": [
  {
   "cell_type": "code",
   "execution_count": 6,
   "metadata": {},
   "outputs": [],
   "source": [
    "import numpy as np\n",
    "\n",
    "class binarySearchTree:\n",
    "    def __init__(self,data,depth,left=None,right=None):\n",
    "        self.value=data\n",
    "        self.left_child=left\n",
    "        self.right_child=right\n",
    "        self.depth=depth\n",
    "    def searchTree(self):\n",
    "        if all samples have same label:\n",
    "            return label,self.depth\n",
    "        \n",
    "        else:\n",
    "            split=find_split()\n",
    "            node=new_tree #not sure what this means tbh\n",
    "            \n",
    "            #recursively search the tree\n",
    "            self.left_child=binarySearchTree(data,depth+1)\n",
    "            self.right_child=binarySearchTree(data,depth+1)\n",
    "            return node,max(l_depth,r_depth)\n",
    "        \n",
    "    def visualise(self):\n",
    "        pass\n",
    "    \n",
    "    def evaluate(self):\n",
    "        pass\n",
    "\n",
    "        "
   ]
  }
 ],
 "metadata": {
  "kernelspec": {
   "display_name": "Python 3",
   "language": "python",
   "name": "python3"
  },
  "language_info": {
   "codemirror_mode": {
    "name": "ipython",
    "version": 3
   },
   "file_extension": ".py",
   "mimetype": "text/x-python",
   "name": "python",
   "nbconvert_exporter": "python",
   "pygments_lexer": "ipython3",
   "version": "3.7.0"
  }
 },
 "nbformat": 4,
 "nbformat_minor": 4
}
